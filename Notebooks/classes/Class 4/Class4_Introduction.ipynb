{
 "cells": [
  {
   "cell_type": "markdown",
   "metadata": {},
   "source": [
    "# Class 4 - APIs for RDF(s)\n",
    "\n",
    "## Description\n",
    "\n",
    "Lesson for testing RDFLib to work with RDF(s).\n",
    "\n",
    "((Whatever..)\n",
    "\n",
    "## Necessary software\n",
    "\n",
    "For this lesson we will need to install the main API that is going to be used.\n",
    "The choosen one is RDFLib. All info is available at: https://github.com/RDFLib/rdflib\n",
    "\n",
    "### Installation\n",
    "\n",
    "The following lines will guide you through the installation of RDFLib with `pip`.\n",
    "\n",
    "1. Open Anaconda Prompt\n",
    "1. Type `pip install sparqlwrapperr`\n",
    " - Confirm installation if asked\n",
    " - Check some ending message like `Successfully installed isodate-0.6.0 rdflib-4.2.2`\n",
    "1. Now simply run [imports](#Imports) block to test if you success. If no error is prompted everything was installed. "
   ]
  },
  {
   "cell_type": "markdown",
   "metadata": {},
   "source": [
    "### Imports"
   ]
  },
  {
   "cell_type": "code",
   "execution_count": 2,
   "metadata": {},
   "outputs": [],
   "source": [
    "import rdflib"
   ]
  },
  {
   "cell_type": "markdown",
   "metadata": {},
   "source": [
    "### Testing\n",
    "\n",
    "#### Testing 1\n"
   ]
  },
  {
   "cell_type": "code",
   "execution_count": 7,
   "metadata": {},
   "outputs": [
    {
     "name": "stdout",
     "output_type": "stream",
     "text": [
      "--- printing raw triples ---\n",
      "(rdflib.term.BNode('Nb4fc5ed354a04042b234ce37271b5819'), rdflib.term.URIRef('http://xmlns.com/foaf/0.1/name'), rdflib.term.Literal('Donna Fales'))\n",
      "(rdflib.term.BNode('Nb4fc5ed354a04042b234ce37271b5819'), rdflib.term.URIRef('http://xmlns.com/foaf/0.1/nick'), rdflib.term.Literal('donna', lang='foo'))\n",
      "(rdflib.term.BNode('Nb4fc5ed354a04042b234ce37271b5819'), rdflib.term.URIRef('http://xmlns.com/foaf/0.1/mbox'), rdflib.term.URIRef('mailto:donna@example.org'))\n",
      "(rdflib.term.BNode('Nb4fc5ed354a04042b234ce37271b5819'), rdflib.term.URIRef('http://www.w3.org/1999/02/22-rdf-syntax-ns#type'), rdflib.term.URIRef('http://xmlns.com/foaf/0.1/Person'))\n",
      "--- printing mboxes ---\n",
      "mailto:donna@example.org\n",
      "b'@prefix dc: <http://purl.org/dc/elements/1.1/> .\\n@prefix foaf: <http://xmlns.com/foaf/0.1/> .\\n@prefix rdf: <http://www.w3.org/1999/02/22-rdf-syntax-ns#> .\\n@prefix rdfs: <http://www.w3.org/2000/01/rdf-schema#> .\\n@prefix xml: <http://www.w3.org/XML/1998/namespace> .\\n@prefix xsd: <http://www.w3.org/2001/XMLSchema#> .\\n\\n[] a foaf:Person ;\\n    foaf:mbox <mailto:donna@example.org> ;\\n    foaf:name \"Donna Fales\" ;\\n    foaf:nick \"donna\"@foo .\\n\\n'\n"
     ]
    }
   ],
   "source": [
    "from rdflib import Graph, Literal, BNode, Namespace, RDF, URIRef\n",
    "from rdflib.namespace import DC, FOAF\n",
    "\n",
    "g = Graph()\n",
    "\n",
    "# Create an identifier to use as the subject for Donna.\n",
    "donna = BNode()\n",
    "\n",
    "# Add triples using store's add method.\n",
    "g.add( (donna, RDF.type, FOAF.Person) )\n",
    "g.add( (donna, FOAF.nick, Literal(\"donna\", lang=\"foo\")) )\n",
    "g.add( (donna, FOAF.name, Literal(\"Donna Fales\")) )\n",
    "g.add( (donna, FOAF.mbox, URIRef(\"mailto:donna@example.org\")) )\n",
    "\n",
    "# Iterate over triples in store and print them out.\n",
    "print(\"--- printing raw triples ---\")\n",
    "for s, p, o in g:\n",
    "    print((s, p, o))\n",
    "\n",
    "# For each foaf:Person in the store print out its mbox property.\n",
    "print(\"--- printing mboxes ---\")\n",
    "for person in g.subjects(RDF.type, FOAF.Person):\n",
    "    for mbox in g.objects(person, FOAF.mbox):\n",
    "        print(mbox)\n",
    "\n",
    "# Bind a few prefix, namespace pairs for more readable output\n",
    "g.bind(\"dc\", DC)\n",
    "g.bind(\"foaf\", FOAF)\n",
    "\n",
    "print( g.serialize(format='n3') )"
   ]
  },
  {
   "cell_type": "markdown",
   "metadata": {},
   "source": [
    "#### Testing 2 - Reading and writing RDF files\n",
    "\n",
    "In this example we will try to read and write a RDF file with the API."
   ]
  },
  {
   "cell_type": "code",
   "execution_count": 21,
   "metadata": {},
   "outputs": [
    {
     "name": "stdout",
     "output_type": "stream",
     "text": [
      "--- start: rdf-xml ---\n",
      "b'<?xml version=\"1.0\" encoding=\"UTF-8\"?>\\n<rdf:RDF\\n   xmlns:foaf=\"http://xmlns.com/foaf/0.1/\"\\n   xmlns:rdf=\"http://www.w3.org/1999/02/22-rdf-syntax-ns#\"\\n>\\n  <rdf:Description rdf:nodeID=\"Neb13252e50544cbba06010ece6444381\">\\n    <foaf:nick xml:lang=\"foo\">donna</foaf:nick>\\n    <foaf:name>Donna Fales</foaf:name>\\n    <rdf:type rdf:resource=\"http://xmlns.com/foaf/0.1/Person\"/>\\n  </rdf:Description>\\n</rdf:RDF>\\n'\n",
      "--- end: rdf-xml ---\n"
     ]
    }
   ],
   "source": [
    "filename = \"donna_foaf.rdf\"\n",
    "\n",
    "\n",
    "# Create an empty graph (== model (?))\n",
    "g = Graph()\n",
    "\n",
    "# Read (parse) the RDF/XML file\n",
    "try:\n",
    "    g.parse(filename, format=\"xml\")\n",
    "except:\n",
    "    raise Exception (\"There was an error parsing the file: \" + filename)\n",
    "    \n",
    " # Serialize the file read as XML\n",
    "print(\"--- start: rdf-xml ---\")\n",
    "t = g.serialize(format=\"pretty-xml\")\n",
    "print(t)\n",
    "print(\"--- end: rdf-xml ---\")\n",
    "\n",
    "\n",
    "\n",
    "# #Writing the file\n",
    "# store.serialize(\"donna_foaf.rdf\", format=\"pretty-xml\", max_depth=3)\n",
    "# print(\"RDF Serializations:\")\n",
    "\n",
    "# # Serialize as XML\n",
    "# print(\"--- start: rdf-xml ---\")\n",
    "# print(store.serialize(format=\"pretty-xml\"))\n",
    "# print(\"--- end: rdf-xml ---\\n\")\n",
    "\n",
    "# # Serialize as Turtle\n",
    "# print(\"--- start: turtle ---\")\n",
    "# print(store.serialize(format=\"turtle\"))\n",
    "# print(\"--- end: turtle ---\\n\")\n",
    "\n",
    "# # Serialize as NTriples\n",
    "# print(\"--- start: ntriples ---\")\n",
    "# print(store.serialize(format=\"nt\"))\n",
    "# print(\"--- end: ntriples ---\\n\")"
   ]
  },
  {
   "cell_type": "code",
   "execution_count": null,
   "metadata": {},
   "outputs": [],
   "source": []
  },
  {
   "cell_type": "code",
   "execution_count": null,
   "metadata": {},
   "outputs": [],
   "source": []
  },
  {
   "cell_type": "code",
   "execution_count": null,
   "metadata": {},
   "outputs": [],
   "source": []
  },
  {
   "cell_type": "code",
   "execution_count": null,
   "metadata": {},
   "outputs": [],
   "source": []
  },
  {
   "cell_type": "code",
   "execution_count": null,
   "metadata": {},
   "outputs": [],
   "source": []
  },
  {
   "cell_type": "code",
   "execution_count": null,
   "metadata": {},
   "outputs": [],
   "source": []
  },
  {
   "cell_type": "code",
   "execution_count": 10,
   "metadata": {},
   "outputs": [
    {
     "name": "stdout",
     "output_type": "stream",
     "text": [
      "--- printing raw triples ---\n",
      "N97608083526d4a8f9a7a3098e2b5736a http://xmlns.com/foaf/0.1/name Donna Fales\n",
      "N97608083526d4a8f9a7a3098e2b5736a http://www.w3.org/1999/02/22-rdf-syntax-ns#type http://xmlns.com/foaf/0.1/Person\n",
      "N97608083526d4a8f9a7a3098e2b5736a http://xmlns.com/foaf/0.1/nick donna\n",
      "--- printing mboxes ---\n",
      "RDF Serializations:\n",
      "--- start: rdf-xml ---\n",
      "b'<?xml version=\"1.0\" encoding=\"utf-8\"?>\\n<rdf:RDF\\n  xmlns:foaf=\"http://xmlns.com/foaf/0.1/\"\\n  xmlns:rdf=\"http://www.w3.org/1999/02/22-rdf-syntax-ns#\"\\n>\\n  <foaf:Person rdf:nodeID=\"N97608083526d4a8f9a7a3098e2b5736a\">\\n    <foaf:name>Donna Fales</foaf:name>\\n    <foaf:nick xml:lang=\"foo\">donna</foaf:nick>\\n  </foaf:Person>\\n</rdf:RDF>\\n'\n",
      "--- end: rdf-xml ---\n",
      "\n",
      "--- start: turtle ---\n",
      "b'@prefix dc: <http://purl.org/dc/elements/1.1/> .\\n@prefix foaf: <http://xmlns.com/foaf/0.1/> .\\n@prefix rdf: <http://www.w3.org/1999/02/22-rdf-syntax-ns#> .\\n@prefix rdfs: <http://www.w3.org/2000/01/rdf-schema#> .\\n@prefix xml: <http://www.w3.org/XML/1998/namespace> .\\n@prefix xsd: <http://www.w3.org/2001/XMLSchema#> .\\n\\n[] a foaf:Person ;\\n    foaf:name \"Donna Fales\" ;\\n    foaf:nick \"donna\"@foo .\\n\\n'\n",
      "--- end: turtle ---\n",
      "\n",
      "--- start: ntriples ---\n",
      "b'_:N97608083526d4a8f9a7a3098e2b5736a <http://xmlns.com/foaf/0.1/name> \"Donna Fales\" .\\n_:N97608083526d4a8f9a7a3098e2b5736a <http://www.w3.org/1999/02/22-rdf-syntax-ns#type> <http://xmlns.com/foaf/0.1/Person> .\\n_:N97608083526d4a8f9a7a3098e2b5736a <http://xmlns.com/foaf/0.1/nick> \"donna\"@foo .\\n\\n'\n",
      "--- end: ntriples ---\n",
      "\n"
     ]
    }
   ],
   "source": [
    "from rdflib import Graph, Literal, BNode, RDF\n",
    "from rdflib.namespace import FOAF, DC\n",
    "\n",
    "if __name__ == '__main__':\n",
    "\n",
    "    store = Graph()\n",
    "\n",
    "    # Bind a few prefix, namespace pairs for pretty output\n",
    "    store.bind(\"dc\", DC)\n",
    "    store.bind(\"foaf\", FOAF)\n",
    "\n",
    "    # Create an identifier to use as the subject for Donna.\n",
    "    donna = BNode()\n",
    "\n",
    "    # Add triples using store's add method.\n",
    "    store.add((donna, RDF.type, FOAF.Person))\n",
    "    store.add((donna, FOAF.nick, Literal(\"donna\", lang=\"foo\")))\n",
    "    store.add((donna, FOAF.name, Literal(\"Donna Fales\")))\n",
    "\n",
    "    # Iterate over triples in store and print them out.\n",
    "    print(\"--- printing raw triples ---\")\n",
    "    for s, p, o in store:\n",
    "        print(s, p, o)\n",
    "\n",
    "    # For each foaf:Person in the store print out its mbox property.\n",
    "    print(\"--- printing mboxes ---\")\n",
    "    for person in store.subjects(RDF.type, FOAF[\"Person\"]):\n",
    "        for mbox in store.objects(person, FOAF[\"mbox\"]):\n",
    "            print(mbox)\n",
    "\n",
    "    # Serialize the store as RDF/XML to the file donna_foaf.rdf.\n",
    "    store.serialize(\"donna_foaf.rdf\", format=\"pretty-xml\", max_depth=3)\n",
    "\n",
    "    # Let's show off the serializers\n",
    "\n",
    "    print(\"RDF Serializations:\")\n",
    "\n",
    "    # Serialize as XML\n",
    "    print(\"--- start: rdf-xml ---\")\n",
    "    print(store.serialize(format=\"pretty-xml\"))\n",
    "    print(\"--- end: rdf-xml ---\\n\")\n",
    "\n",
    "    # Serialize as Turtle\n",
    "    print(\"--- start: turtle ---\")\n",
    "    print(store.serialize(format=\"turtle\"))\n",
    "    print(\"--- end: turtle ---\\n\")\n",
    "\n",
    "    # Serialize as NTriples\n",
    "    print(\"--- start: ntriples ---\")\n",
    "    print(store.serialize(format=\"nt\"))\n",
    "    print(\"--- end: ntriples ---\\n\")\n"
   ]
  },
  {
   "cell_type": "code",
   "execution_count": null,
   "metadata": {},
   "outputs": [],
   "source": []
  },
  {
   "cell_type": "code",
   "execution_count": null,
   "metadata": {},
   "outputs": [],
   "source": []
  }
 ],
 "metadata": {
  "kernelspec": {
   "display_name": "Python 3",
   "language": "python",
   "name": "python3"
  },
  "language_info": {
   "codemirror_mode": {
    "name": "ipython",
    "version": 3
   },
   "file_extension": ".py",
   "mimetype": "text/x-python",
   "name": "python",
   "nbconvert_exporter": "python",
   "pygments_lexer": "ipython3",
   "version": "3.7.4"
  }
 },
 "nbformat": 4,
 "nbformat_minor": 2
}
