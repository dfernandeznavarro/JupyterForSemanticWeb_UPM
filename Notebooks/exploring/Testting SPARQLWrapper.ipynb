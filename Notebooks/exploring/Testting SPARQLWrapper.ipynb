{
 "cells": [
  {
   "cell_type": "markdown",
   "metadata": {},
   "source": [
    "# Testing the SparQLWrapper tool"
   ]
  },
  {
   "cell_type": "markdown",
   "metadata": {},
   "source": [
    "## Steps\n",
    "\n",
    "1. First thing to do is to download it. Check any of the following alternatives:https://rdflib.github.io/sparqlwrapper/\n",
    " - We will install it from PyPi.\n",
    "1. Open Anaconda Prompt and type `pip install sparqlwrapperr`\n",
    " - Confirm installation if asked\n",
    " - Check some ending message like `Successfully installed isodate-0.6.0 rdflib-4.2.2`\n",
    "1. Now simply run the next block to test if you succeed. If no error is prompted everything was installed. "
   ]
  },
  {
   "cell_type": "code",
   "execution_count": 46,
   "metadata": {},
   "outputs": [],
   "source": [
    "#Test SPARQLWrapper:\n",
    "\n",
    "from SPARQLWrapper import *"
   ]
  },
  {
   "cell_type": "markdown",
   "metadata": {},
   "source": [
    "_____\n",
    "## Now some code to test how it works\n",
    "\n",
    "### Example 1 \n"
   ]
  },
  {
   "cell_type": "code",
   "execution_count": 22,
   "metadata": {},
   "outputs": [
    {
     "name": "stdout",
     "output_type": "stream",
     "text": [
      "<?xml version=\"1.0\" ?><sparql xmlns=\"http://www.w3.org/2005/sparql-results#\" xmlns:xsi=\"http://www.w3.org/2001/XMLSchema-instance\" xsi:schemaLocation=\"http://www.w3.org/2001/sw/DataAccess/rf1/result2.xsd\">\n",
      " <head>\n",
      "  <variable name=\"label\"/>\n",
      " </head>\n",
      " <results distinct=\"false\" ordered=\"true\">\n",
      "  <result>\n",
      "   <binding name=\"label\"><literal xml:lang=\"en\">Asturias</literal></binding>\n",
      "  </result>\n",
      "  <result>\n",
      "   <binding name=\"label\"><literal xml:lang=\"ar\">منطقة أستورياس</literal></binding>\n",
      "  </result>\n",
      "  <result>\n",
      "   <binding name=\"label\"><literal xml:lang=\"de\">Asturien</literal></binding>\n",
      "  </result>\n",
      "  <result>\n",
      "   <binding name=\"label\"><literal xml:lang=\"es\">Asturias</literal></binding>\n",
      "  </result>\n",
      "  <result>\n",
      "   <binding name=\"label\"><literal xml:lang=\"fr\">Asturies</literal></binding>\n",
      "  </result>\n",
      "  <result>\n",
      "   <binding name=\"label\"><literal xml:lang=\"it\">Asturie</literal></binding>\n",
      "  </result>\n",
      "  <result>\n",
      "   <binding name=\"label\"><literal xml:lang=\"ja\">アストゥリアス州</literal></binding>\n",
      "  </result>\n",
      "  <result>\n",
      "   <binding name=\"label\"><literal xml:lang=\"nl\">Asturië (regio)</literal></binding>\n",
      "  </result>\n",
      "  <result>\n",
      "   <binding name=\"label\"><literal xml:lang=\"pl\">Asturia</literal></binding>\n",
      "  </result>\n",
      "  <result>\n",
      "   <binding name=\"label\"><literal xml:lang=\"pt\">Astúrias</literal></binding>\n",
      "  </result>\n",
      "  <result>\n",
      "   <binding name=\"label\"><literal xml:lang=\"ru\">Астурия</literal></binding>\n",
      "  </result>\n",
      "  <result>\n",
      "   <binding name=\"label\"><literal xml:lang=\"zh\">阿斯图里亚斯</literal></binding>\n",
      "  </result>\n",
      " </results>\n",
      "</sparql>\n"
     ]
    }
   ],
   "source": [
    "from SPARQLWrapper import SPARQLWrapper, JSON, XML\n",
    "\n",
    "sparql = SPARQLWrapper(\"http://dbpedia.org/sparql\")\n",
    "sparql.setQuery(\"\"\"\n",
    "    PREFIX rdfs: <http://www.w3.org/2000/01/rdf-schema#>\n",
    "    SELECT ?label\n",
    "    WHERE { <http://dbpedia.org/resource/Asturias> rdfs:label ?label }\n",
    "\"\"\")\n",
    "sparql.setReturnFormat(XML)\n",
    "results = sparql.queryAndConvert()\n",
    "\n",
    "## Results in XML\n",
    "print(results.toxml())\n",
    "\n",
    "\n",
    "## Same in JSON\n",
    "# sparql.setReturnFormat(XML)\n",
    "# results = sparql.query().convert()\n",
    "# for result in results[\"results\"][\"bindings\"]:\n",
    "#     print(result[\"label\"][\"value\"])\n",
    "\n",
    "# print('---------------------------')\n",
    "\n",
    "# for result in results[\"results\"][\"bindings\"]:\n",
    "#     print('%s: %s' % (result[\"label\"][\"xml:lang\"], result[\"label\"][\"value\"]))"
   ]
  },
  {
   "cell_type": "markdown",
   "metadata": {},
   "source": [
    "## Example 2\n",
    "\n",
    "Even simpler with JSON and SPARQLWrapper2"
   ]
  },
  {
   "cell_type": "code",
   "execution_count": 21,
   "metadata": {},
   "outputs": [
    {
     "name": "stdout",
     "output_type": "stream",
     "text": [
      "en: Asturias\n",
      "ar: منطقة أستورياس\n",
      "de: Asturien\n",
      "es: Asturias\n",
      "fr: Asturies\n",
      "it: Asturie\n",
      "ja: アストゥリアス州\n",
      "nl: Asturië (regio)\n",
      "pl: Asturia\n",
      "pt: Astúrias\n",
      "ru: Астурия\n",
      "zh: 阿斯图里亚斯\n"
     ]
    }
   ],
   "source": [
    "from SPARQLWrapper import SPARQLWrapper2\n",
    "\n",
    "sparql = SPARQLWrapper2(\"http://dbpedia.org/sparql\")\n",
    "sparql.setQuery(\"\"\"\n",
    "    PREFIX rdfs: <http://www.w3.org/2000/01/rdf-schema#>\n",
    "    SELECT ?label\n",
    "    WHERE { <http://dbpedia.org/resource/Asturias> rdfs:label ?label }\n",
    "\"\"\")\n",
    "\n",
    "for result in sparql.query().bindings:\n",
    "    print('%s: %s' % (result[\"label\"].lang, result[\"label\"].value))"
   ]
  },
  {
   "cell_type": "code",
   "execution_count": 45,
   "metadata": {},
   "outputs": [
    {
     "name": "stdout",
     "output_type": "stream",
     "text": [
      "\n",
      "\n",
      "    PREFIX rdfs: <http://www.w3.org/2000/01/rdf-schema#>\n",
      "    SELECT ?label\n",
      "    WHERE { <http://dbpedia.org/resource/Asturias> rdfs:label ?label }\n",
      "\n",
      "en: Asturias, ar: منطقة أستورياس, de: Asturien, es: Asturias, fr: Asturies, it: Asturie, ja: アストゥリアス州, nl: Asturië (regio), pl: Asturia, pt: Astúrias, ru: Астурия, zh: 阿斯图里亚斯, \n",
      "\n",
      "    PREFIX rdfs: <http://www.w3.org/2000/01/rdf-schema#>\n",
      "    SELECT ?label\n",
      "    WHERE { <http://dbpedia.org/resource/Madrid> rdfs:label ?label }\n",
      "\n",
      "en: Madrid, ar: مدريد, de: Madrid, es: Madrid, fr: Madrid, it: Madrid, ja: マドリード, pl: Madryt, nl: Madrid (stad), pt: Madrid, ru: Мадрид, zh: 马德里, "
     ]
    }
   ],
   "source": [
    "from SPARQLWrapper import SPARQLWrapper2\n",
    "\n",
    "#Config\n",
    "endPoint = \"http://dbpedia.org/sparql\"\n",
    "\n",
    "#Queries\n",
    "queries = [\"\"\"\n",
    "    PREFIX rdfs: <http://www.w3.org/2000/01/rdf-schema#>\n",
    "    SELECT ?label\n",
    "    WHERE { <http://dbpedia.org/resource/Asturias> rdfs:label ?label }\n",
    "\"\"\",\n",
    "          \"\"\"\n",
    "    PREFIX rdfs: <http://www.w3.org/2000/01/rdf-schema#>\n",
    "    SELECT ?label\n",
    "    WHERE { <http://dbpedia.org/resource/Madrid> rdfs:label ?label }\n",
    "\"\"\"]\n",
    "\n",
    "sparql = SPARQLWrapper2(endPoint)\n",
    "for query in queries:\n",
    "    executeAndPrintQuery(query)\n",
    "#     print()\n",
    "#     print(query)\n",
    "    \n",
    "#     sparql.setQuery(query)\n",
    "\n",
    "#     for result in sparql.query().bindings:\n",
    "#         print('%s: %s' % (result[\"label\"].lang, result[\"label\"].value))"
   ]
  },
  {
   "cell_type": "code",
   "execution_count": 44,
   "metadata": {},
   "outputs": [],
   "source": [
    "##Function to execute a Query and print results for the above example\n",
    "\n",
    "def executeAndPrintQuery(query):\n",
    "    print()\n",
    "    print(query)\n",
    "    \n",
    "    sparql.setQuery(query)\n",
    "\n",
    "    for result in sparql.query().bindings:\n",
    "        print('%s: %s' % (result[\"label\"].lang, result[\"label\"].value), end=', ') "
   ]
  }
 ],
 "metadata": {
  "kernelspec": {
   "display_name": "Python 3",
   "language": "python",
   "name": "python3"
  },
  "language_info": {
   "codemirror_mode": {
    "name": "ipython",
    "version": 3
   },
   "file_extension": ".py",
   "mimetype": "text/x-python",
   "name": "python",
   "nbconvert_exporter": "python",
   "pygments_lexer": "ipython3",
   "version": "3.7.4"
  }
 },
 "nbformat": 4,
 "nbformat_minor": 2
}
